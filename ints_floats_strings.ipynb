{
 "cells": [
  {
   "cell_type": "markdown",
   "metadata": {},
   "source": [
    "#### <code style=\"color:steelblue\">Ints, Floats and Strings</code>"
   ]
  },
  {
   "cell_type": "markdown",
   "metadata": {},
   "source": [
    "#### <span style=\"color:RoyalBlue\">Ints, Floats and Strings</span>"
   ]
  },
  {
   "cell_type": "code",
   "execution_count": 1,
   "metadata": {},
   "outputs": [],
   "source": [
    "# How to create and give a name to an integer?\n",
    "my_grade = 95\n",
    "# How to create and give a name to a floating-point number?\n",
    "my_account_balance = 10200.58\n",
    "# How to create and give a name to a string?\n",
    "my_favourite_language = 'python'"
   ]
  },
  {
   "cell_type": "code",
   "execution_count": 2,
   "metadata": {},
   "outputs": [
    {
     "name": "stdout",
     "output_type": "stream",
     "text": [
      "95\n",
      "10200.58\n",
      "python\n"
     ]
    }
   ],
   "source": [
    "# How to print the values using the names?\n",
    "print(my_grade)\n",
    "print(my_account_balance)\n",
    "print(my_favourite_language)"
   ]
  },
  {
   "cell_type": "code",
   "execution_count": 3,
   "metadata": {},
   "outputs": [
    {
     "name": "stdout",
     "output_type": "stream",
     "text": [
      "95\n",
      "10200.58\n",
      "python\n"
     ]
    }
   ],
   "source": [
    "# How to print the values directly?\n",
    "print(95)\n",
    "print(10200.58)\n",
    "print('python')"
   ]
  },
  {
   "cell_type": "code",
   "execution_count": 4,
   "metadata": {},
   "outputs": [
    {
     "name": "stdout",
     "output_type": "stream",
     "text": [
      "My grade is 95 percent\n",
      "My account balance is 10200.58 dollars\n",
      "python is awesome! It is my favourite programming languge\n"
     ]
    }
   ],
   "source": [
    "# How to print more informative statements?\n",
    "print('My grade is',  my_grade, 'percent')\n",
    "print('My account balance is', my_account_balance, 'dollars')\n",
    "print(my_favourite_language, 'is awesome! It is my favourite programming languge')"
   ]
  },
  {
   "cell_type": "code",
   "execution_count": 5,
   "metadata": {},
   "outputs": [
    {
     "name": "stdout",
     "output_type": "stream",
     "text": [
      "<class 'int'>\n",
      "<class 'float'>\n",
      "<class 'str'>\n"
     ]
    }
   ],
   "source": [
    "# How to print the data types (or class) directly?\n",
    "print(type(95))\n",
    "print(type(10200.58))\n",
    "print(type('python'))"
   ]
  },
  {
   "cell_type": "code",
   "execution_count": 6,
   "metadata": {},
   "outputs": [
    {
     "name": "stdout",
     "output_type": "stream",
     "text": [
      "<class 'int'>\n",
      "<class 'float'>\n",
      "<class 'str'>\n"
     ]
    }
   ],
   "source": [
    "# How to print the data types (or class) using the names?\n",
    "print(type(my_grade))\n",
    "print(type( my_account_balance))\n",
    "print(type(my_favourite_language))"
   ]
  }
 ],
 "metadata": {
  "kernelspec": {
   "display_name": "Python 3",
   "language": "python",
   "name": "python3"
  },
  "language_info": {
   "codemirror_mode": {
    "name": "ipython",
    "version": 3
   },
   "file_extension": ".py",
   "mimetype": "text/x-python",
   "name": "python",
   "nbconvert_exporter": "python",
   "pygments_lexer": "ipython3",
   "version": "3.6.8"
  }
 },
 "nbformat": 4,
 "nbformat_minor": 2
}
